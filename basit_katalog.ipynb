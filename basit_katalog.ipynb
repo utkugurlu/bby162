{
  "nbformat": 4,
  "nbformat_minor": 0,
  "metadata": {
    "colab": {
      "name": "basit_katalog.ipynb",
      "provenance": [],
      "authorship_tag": "ABX9TyOisLlEkvxHQu+eZy4xHasP",
      "include_colab_link": true
    },
    "kernelspec": {
      "name": "python3",
      "display_name": "Python 3"
    }
  },
  "cells": [
    {
      "cell_type": "markdown",
      "metadata": {
        "id": "view-in-github",
        "colab_type": "text"
      },
      "source": [
        "<a href=\"https://colab.research.google.com/github/utkugurlu/bby162-2020/blob/master/basit_katalog.ipynb\" target=\"_parent\"><img src=\"https://colab.research.google.com/assets/colab-badge.svg\" alt=\"Open In Colab\"/></a>"
      ]
    },
    {
      "cell_type": "code",
      "metadata": {
        "id": "9X0_J2vIYLWK",
        "colab_type": "code",
        "colab": {
          "base_uri": "https://localhost:8080/",
          "height": 262
        },
        "outputId": "2414c726-4196-4153-a7b2-a8951c6b5e8d"
      },
      "source": [
        "from google.colab import drive\n",
        "drive.mount(\"gdrive\", force_remount=True)\n",
        "\n",
        "dosya = \"/gdrive/My Drive/Colab Notebooks/kitap_listesi.txt\"\n",
        "\n",
        "f = open(dosya, 'r')\n",
        "for line in f.readlines():\n",
        "    print(line)\n",
        " \n",
        "f.close()\n",
        "\n",
        "giris = input(\"yazar adıyla arama yapmak için '1', kitap adıyla arama yapmak için '2', yayın yılıyla arama yapmak için '3' yazın: \")\n",
        "if giris == \"1\":\n",
        "  yAdi = input(\"Yazarın tam adını giriniz: \")\n",
        "  if yAdi == \"Jean Paul Sartre\":\n",
        "    print(\"Bulantı, Jean Paul Sartre, 2018, Can Sanat Yayınları\")\n",
        "  elif yAdi == \"Jack London\":\n",
        "    print(\"Yıldız Gezgini, Jack London, 2017, Türkiye İş Bankası Kültür Yayınları\")\n",
        "  elif yAdi == \"Anton Çehov\":\n",
        "    print(\"Köpeğiyle Dolaşan Kadın, Anton Çehov, 2018, Türkiye İş Bankası Kültür Yayınları\")\n",
        "  else:\n",
        "    print(\"Sonuç bulunamadı, yazar adını doğru girdiğinizden emin olun(aradığınız eser katalogta bulunmuyor olabilir)\")\n",
        "\n",
        "if giris == \"2\":\n",
        "  kAdi = input(\"Kitap adını giriniz: \")\n",
        "  if kAdi == \"Bulantı\":\n",
        "    print(\"Bulantı, Jean Paul Sartre, 2018, Can Sanat Yayınları\")\n",
        "  if kAdi == \"Yıldız Gezgini\":\n",
        "    print(\"Yıldız Gezgini, Jack London, 2017, Türkiye İş Bankası Kültür Yayınları\")\n",
        "  if kAdi ==  \"Köpeğiyle Dolaşan Kadın\":\n",
        "    print(\"Köpeğiyle Dolaşan Kadın, Anton Çehov, 2018, Türkiye İş Bankası Kültür Yayınları\")\n",
        "  else:\n",
        "    print(\"Sonuç bulunamadı, kitap adını doğru girdiğinizden emin olun(aradığınız eser katalogta bulunmuyor olabilir)\")\n",
        "\n",
        "if giris == \"3\":\n",
        "  yYili = input(\"Yayın yılı giriniz: \")\n",
        "  if yYili == \"2018\":\n",
        "    print(\"Bulantı, Jean Paul Sartre, 2018, Can Sanat Yayınları\\n Köpeğiyle Dolaşan Kadın, Anton Çehov, 2018, Türkiye İş Bankası Kültür Yayınları\")      \n",
        "  if yYili == \"2017\":\n",
        "    print(\"Yıldız Gezgini, Jack London, 2017, Türkiye İş Bankası Kültür Yayınları\")\n",
        "  else:\n",
        "    print(\"Sonuç bulunamadı, yayın yılını doğru girdiğinizden emin olun(aradığınız eser katalogta bulunmuyor olabilir)\")    \n",
        "\n",
        "ekleme = input(\"eklemek istediğiniz eseri, Eser adı, Yazar adı, Yayın yılı, Yayınevi sıralamasıyla girin: \")\n",
        "f = open(dosya,'a')\n",
        "f.write(ekleme)\n",
        "f.close()    \n",
        "  \n",
        "\n",
        "\n",
        "      \n",
        "\n",
        "\n",
        "\n"
      ],
      "execution_count": 12,
      "outputs": [
        {
          "output_type": "stream",
          "text": [
            "Mounted at gdrive\n"
          ],
          "name": "stdout"
        },
        {
          "output_type": "error",
          "ename": "FileNotFoundError",
          "evalue": "ignored",
          "traceback": [
            "\u001b[0;31m---------------------------------------------------------------------------\u001b[0m",
            "\u001b[0;31mFileNotFoundError\u001b[0m                         Traceback (most recent call last)",
            "\u001b[0;32m<ipython-input-12-409aef5ddc46>\u001b[0m in \u001b[0;36m<module>\u001b[0;34m()\u001b[0m\n\u001b[1;32m      4\u001b[0m \u001b[0mdosya\u001b[0m \u001b[0;34m=\u001b[0m \u001b[0;34m\"/gdrive/My Drive/Colab Notebooks/kitap_listesi.txt\"\u001b[0m\u001b[0;34m\u001b[0m\u001b[0;34m\u001b[0m\u001b[0m\n\u001b[1;32m      5\u001b[0m \u001b[0;34m\u001b[0m\u001b[0m\n\u001b[0;32m----> 6\u001b[0;31m \u001b[0mf\u001b[0m \u001b[0;34m=\u001b[0m \u001b[0mopen\u001b[0m\u001b[0;34m(\u001b[0m\u001b[0mdosya\u001b[0m\u001b[0;34m,\u001b[0m \u001b[0;34m'r'\u001b[0m\u001b[0;34m)\u001b[0m\u001b[0;34m\u001b[0m\u001b[0;34m\u001b[0m\u001b[0m\n\u001b[0m\u001b[1;32m      7\u001b[0m \u001b[0;32mfor\u001b[0m \u001b[0mline\u001b[0m \u001b[0;32min\u001b[0m \u001b[0mf\u001b[0m\u001b[0;34m.\u001b[0m\u001b[0mreadlines\u001b[0m\u001b[0;34m(\u001b[0m\u001b[0;34m)\u001b[0m\u001b[0;34m:\u001b[0m\u001b[0;34m\u001b[0m\u001b[0;34m\u001b[0m\u001b[0m\n\u001b[1;32m      8\u001b[0m     \u001b[0mprint\u001b[0m\u001b[0;34m(\u001b[0m\u001b[0mline\u001b[0m\u001b[0;34m)\u001b[0m\u001b[0;34m\u001b[0m\u001b[0;34m\u001b[0m\u001b[0m\n",
            "\u001b[0;31mFileNotFoundError\u001b[0m: [Errno 2] No such file or directory: '/gdrive/My Drive/Colab Notebooks/kitap_listesi.txt'"
          ]
        }
      ]
    }
  ]
}