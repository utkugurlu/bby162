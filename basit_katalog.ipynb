{
  "nbformat": 4,
  "nbformat_minor": 0,
  "metadata": {
    "colab": {
      "name": "basit_katalog.ipynb",
      "provenance": [],
      "authorship_tag": "ABX9TyPBZhVJaElDaQQ0sHJTvF7g",
      "include_colab_link": true
    },
    "kernelspec": {
      "name": "python3",
      "display_name": "Python 3"
    }
  },
  "cells": [
    {
      "cell_type": "markdown",
      "metadata": {
        "id": "view-in-github",
        "colab_type": "text"
      },
      "source": [
        "<a href=\"https://colab.research.google.com/github/utkugurlu/bby162-2020/blob/master/basit_katalog.ipynb\" target=\"_parent\"><img src=\"https://colab.research.google.com/assets/colab-badge.svg\" alt=\"Open In Colab\"/></a>"
      ]
    },
    {
      "cell_type": "code",
      "metadata": {
        "id": "9X0_J2vIYLWK",
        "colab_type": "code",
        "colab": {}
      },
      "source": [
        "from google.colab import drive\n",
        "drive.mount('/gdrive')\n",
        "dosya = \"/gdrive/My Drive/kitap_listesi.txt\"\n",
        "def eser_ekle():\n",
        "  dosya1 = open(dosya, \"a\",encoding=\"utf-8\")\n",
        "  kitap_adi = input(\"Kitap Adı: \")\n",
        "  yazar_adi = input(\"Yazar Adı: \")\n",
        "  basim_yili = input(\"Basım Yılı: \")\n",
        "  isbn = input(\"isbn : \")\n",
        "  yayin_evi = input(\"Yayın Evi: \")\n",
        "  dosya1.write(kitap_adi+\"|\" + yazar_adi + \"|\" + basim_yili + \"|\" + isbn + \"|\" + yayin_evi+\"\\n\")\n",
        "  print(\"Eser Kayıt edildi.\")\n",
        "  dosya1.close()\n",
        "lineList = []\n",
        "bookNames = []\n",
        "writers = []\n",
        "publishers = []\n",
        "years = []\n",
        "islem = 0\n",
        "while True:\n",
        "\n",
        "    islem = int(input(\"Lutfen bir islem seciniz:\\n\" \n",
        "                      \"Kitap eklemek icin 1\\n\" \n",
        "                      \"Eserleri listelemek icin 2\\n\" \n",
        "                      \"Cıkış icin 3\\n\"))\n",
        "\n",
        "    if (islem == 1):\n",
        "        a = input(\"Girmek istediğiniz kitabın ismi: \")\n",
        "        bookNames.append(a)\n",
        "        b = input(\"Girmek istediğiniz kitabın yazarı: \")\n",
        "        writers.append(b)\n",
        "        c = input(\"Girmek istediğiniz kitabın yayınevi: \")\n",
        "        publishers.append(c)\n",
        "        d = input(\"Girmek istediğiniz kitabın yayım yılı: \")\n",
        "        years.append(d)\n",
        "        with open(\"kitap_listesi.txt\", 'a+', encoding=\"utf-8\") as file2:\n",
        "            for i in range(len(bookNames)):\n",
        "                file2.write(bookNames[i] + \"\\t\" + writers[i] + \"\\t\" + publishers[i] + \"\\t\" + years[i] + \"\\n\")\n",
        "        print(\"Kitap Kataloga Eklendi\")\n",
        "    elif(islem == 2):\n",
        "\n",
        "        file = open(\"kitap_listesi.txt\", \"r\", encoding=\"utf-8\")\n",
        "\n",
        "        print(file.read())\n",
        "\n",
        "    elif(islem == 3):\n",
        "       print(\"Cikis Yapiliyor\")"
      ],
      "execution_count": 0,
      "outputs": []
    }
  ]
}