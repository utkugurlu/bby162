{
  "nbformat": 4,
  "nbformat_minor": 0,
  "metadata": {
    "colab": {
      "name": "çalışma1.ipynb",
      "provenance": [],
      "authorship_tag": "ABX9TyNPL/xkASaeSE4+NxUZhxo9",
      "include_colab_link": true
    },
    "kernelspec": {
      "name": "python3",
      "display_name": "Python 3"
    }
  },
  "cells": [
    {
      "cell_type": "markdown",
      "metadata": {
        "id": "view-in-github",
        "colab_type": "text"
      },
      "source": [
        "<a href=\"https://colab.research.google.com/github/utkugurlu/bby162/blob/master/%C3%A7al%C4%B1%C5%9Fma1.ipynb\" target=\"_parent\"><img src=\"https://colab.research.google.com/assets/colab-badge.svg\" alt=\"Open In Colab\"/></a>"
      ]
    },
    {
      "cell_type": "code",
      "metadata": {
        "id": "G5GAEaDWdBDB",
        "colab_type": "code",
        "colab": {
          "base_uri": "https://localhost:8080/",
          "height": 34
        },
        "outputId": "6cbae685-9114-4ec3-a485-fc6d0473fe99"
      },
      "source": [
        "print(\"Hi, My name is Utku\")\n"
      ],
      "execution_count": 5,
      "outputs": [
        {
          "output_type": "stream",
          "text": [
            "Hi, My name is Utku\n"
          ],
          "name": "stdout"
        }
      ]
    },
    {
      "cell_type": "code",
      "metadata": {
        "id": "xQcwT7EPdSLl",
        "colab_type": "code",
        "colab": {
          "base_uri": "https://localhost:8080/",
          "height": 34
        },
        "outputId": "bdce60e6-3bdb-40ae-fdbe-c7f2c5195b90"
      },
      "source": [
        "print(\"You want me to stick nine inch nails to each one of my eyelids?\")\n"
      ],
      "execution_count": 4,
      "outputs": [
        {
          "output_type": "stream",
          "text": [
            "You want me to stick nine inch nails to each one of my eyelids?\n"
          ],
          "name": "stdout"
        }
      ]
    },
    {
      "cell_type": "code",
      "metadata": {
        "id": "7CdpKyyFdrGR",
        "colab_type": "code",
        "colab": {
          "base_uri": "https://localhost:8080/",
          "height": 34
        },
        "outputId": "0fe1da5e-1124-4cd8-983b-6c15dce7c84e"
      },
      "source": [
        "urun= \"sopa\"\n",
        "birimFiyat= 15\n",
        "sayi= 2\n",
        "odeme= birimFiyat * sayi \n",
        "butce= 28\n",
        "\n",
        "print(urun, \"fiyatı\", birimFiyat * sayi, \"TL\")\n",
        "\n",
        "\n"
      ],
      "execution_count": 21,
      "outputs": [
        {
          "output_type": "stream",
          "text": [
            "sopa fiyatı 30 TL\n"
          ],
          "name": "stdout"
        }
      ]
    }
  ]
}