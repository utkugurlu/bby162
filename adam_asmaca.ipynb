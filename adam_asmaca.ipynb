{
  "nbformat": 4,
  "nbformat_minor": 0,
  "metadata": {
    "colab": {
      "name": "adam asmaca.ipynb",
      "provenance": [],
      "collapsed_sections": [],
      "authorship_tag": "ABX9TyOALy5phXly/0K29Ej7iRHT",
      "include_colab_link": true
    },
    "kernelspec": {
      "name": "python3",
      "display_name": "Python 3"
    }
  },
  "cells": [
    {
      "cell_type": "markdown",
      "metadata": {
        "id": "view-in-github",
        "colab_type": "text"
      },
      "source": [
        "<a href=\"https://colab.research.google.com/github/utkugurlu/bby162/blob/master/adam_asmaca.ipynb\" target=\"_parent\"><img src=\"https://colab.research.google.com/assets/colab-badge.svg\" alt=\"Open In Colab\"/></a>"
      ]
    },
    {
      "cell_type": "code",
      "metadata": {
        "id": "FMvhm3hUNk8y",
        "colab_type": "code",
        "colab": {}
      },
      "source": [
        "from random import randint\n",
        "print(\"Adam asmacaya hoşgeldin\")\n",
        "\n",
        "can = 3 \n",
        "kelimeler = [\"ateş\",\"su\",\"toprak\",\"tahta\"]\n",
        "kelimeSAyisi = len(kelimeler)\n",
        "kelimeSecme = randint(0,3)\n",
        "kelime = kelimeler[kelimeSecme]\n",
        "print(kelime)\n",
        "cevap = []\n",
        "for ekle in kelimeler[kelimeSecme]:\n",
        "  cevap.append(\".\")\n",
        "print(cevap)\n",
        "\n",
        "while can != 0:\n",
        "  harf = input(\"bir harf yaz: \") \n",
        "  icindeMi = harf in kelime\n",
        "  if icindeMi == False:\n",
        "    can=can-1 \n",
        "  r=0\n",
        "  for varsa in kelime:\n",
        "      if kelime[r] == harf:\n",
        "        cevap[r] = harf\n",
        "      r+=1 \n",
        "  print(cevap)\n",
        "  print(\"kalan can: \"+ str(can))\n",
        "  if can==0:\n",
        "    print(\"kaybettin :(\")\n",
        "  if \".\" not in cevap:\n",
        "    print(\"tebrikler,kazandın!\")\n",
        "\n"
      ],
      "execution_count": 0,
      "outputs": []
    }
  ]
}