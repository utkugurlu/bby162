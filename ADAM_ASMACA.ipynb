{
  "nbformat": 4,
  "nbformat_minor": 0,
  "metadata": {
    "colab": {
      "name": "ADAM ASMACA.ipynb",
      "provenance": [],
      "collapsed_sections": [],
      "authorship_tag": "ABX9TyMeoSSXtmgeW+lV/V17xOGg",
      "include_colab_link": true
    },
    "kernelspec": {
      "name": "python3",
      "display_name": "Python 3"
    }
  },
  "cells": [
    {
      "cell_type": "markdown",
      "metadata": {
        "id": "view-in-github",
        "colab_type": "text"
      },
      "source": [
        "<a href=\"https://colab.research.google.com/github/utkugurlu/bby162/blob/master/ADAM_ASMACA.ipynb\" target=\"_parent\"><img src=\"https://colab.research.google.com/assets/colab-badge.svg\" alt=\"Open In Colab\"/></a>"
      ]
    },
    {
      "cell_type": "code",
      "metadata": {
        "id": "exYvokVEPYO7",
        "colab_type": "code",
        "colab": {
          "base_uri": "https://localhost:8080/",
          "height": 165
        },
        "outputId": "aac5650e-6796-4763-8641-23006492af78"
      },
      "source": [
        "from random import randint\n",
        "\n",
        "can =3\n",
        "print(\"adam asmacaya hoşgeldin\")\n",
        "kelimeler = (\"ateş\",\"su\",\"toprak\",\"tahta\",\"hava\")\n",
        "sozcukler = len(kelimeler)\n",
        "kelimeS= randint(0,4)\n",
        "kelime = kelimeler[kelimeS]\n",
        "print(kelime)\n",
        "goruntu = []\n",
        "for ekle in kelime:\n",
        "   goruntu.append(\".\")\n",
        "print(goruntu)   \n",
        "\n",
        "while can!= 0:\n",
        "  giris = input(\"bir harf yaz: \")\n",
        "  kontrol = giris in kelime\n",
        "  if kontrol == False:\n",
        "    can=can-1\n",
        "  i =0\n",
        "  for var in kelime:\n",
        "    if kelime[i] == giris:\n",
        "      goruntu[i] = giris\n",
        "    i+=1\n",
        "      \n",
        "  print(goruntu) \n",
        "  print(\"kalan can: \"+ str(can))\n",
        "  if can ==0:\n",
        "   print(\"kaybettin :( \")       \n",
        "    \n",
        "\n",
        "\n",
        "\n",
        "    \n",
        "   \n",
        "   \n",
        "    \n",
        "\n",
        "\n",
        "\n"
      ],
      "execution_count": 0,
      "outputs": [
        {
          "output_type": "stream",
          "text": [
            "adam asmacaya hoşgeldin\n",
            "ateş\n",
            "['.', '.', '.', '.']\n",
            "bir harf yaz: t\n",
            "['.', 't', '.', '.']\n",
            "kalan can: 3\n"
          ],
          "name": "stdout"
        }
      ]
    },
    {
      "cell_type": "code",
      "metadata": {
        "id": "EO9YWS8bY7GC",
        "colab_type": "code",
        "colab": {}
      },
      "source": [
        ""
      ],
      "execution_count": 0,
      "outputs": []
    }
  ]
}